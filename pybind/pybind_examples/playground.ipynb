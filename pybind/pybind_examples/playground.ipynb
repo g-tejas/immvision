{
 "cells": [
  {
   "cell_type": "code",
   "execution_count": 1,
   "metadata": {},
   "outputs": [
    {
     "name": "stdout",
     "output_type": "stream",
     "text": [
      "/Users/pascal/dvp/OpenSource/ImGuiWork/immvision/pybind/pybind_examples\n",
      "In init immvision (empty) V2\n",
      "doc is Hello Doc\n"
     ]
    }
   ],
   "source": [
    "import sys\n",
    "import numpy as np\n",
    "\n",
    "THIS_DIR = sys.path[0]\n",
    "print(THIS_DIR)\n",
    "sys.path.append(THIS_DIR + \"/../src_python\")\n",
    "\n",
    "import immvision\n",
    "p = immvision.ImageNavigatorParams()"
   ]
  },
  {
   "cell_type": "code",
   "execution_count": 2,
   "metadata": {},
   "outputs": [
    {
     "name": "stdout",
     "output_type": "stream",
     "text": [
      "Help on class ImageNavigatorParams in module immvision.cpp_immvision:\n",
      "\n",
      "class ImageNavigatorParams(pybind11_builtins.pybind11_object)\n",
      " |  Hello Doc\n",
      " |  \n",
      " |  Method resolution order:\n",
      " |      ImageNavigatorParams\n",
      " |      pybind11_builtins.pybind11_object\n",
      " |      builtins.object\n",
      " |  \n",
      " |  Methods defined here:\n",
      " |  \n",
      " |  __init__(...)\n",
      " |      __init__(self: immvision.cpp_immvision.ImageNavigatorParams) -> None\n",
      " |  \n",
      " |  __repr__(...)\n",
      " |      __repr__(self: immvision.cpp_immvision.ImageNavigatorParams) -> str\n",
      " |  \n",
      " |  ----------------------------------------------------------------------\n",
      " |  Data descriptors defined here:\n",
      " |  \n",
      " |  color_adjustments\n",
      " |      Color adjustments for float matrixes\n",
      " |  \n",
      " |  color_adjustments_key\n",
      " |      If displaying several navigators, those with the same ColorAdjustmentsKey will adjust together\n",
      " |  \n",
      " |  draw_values_on_zoomed_pixels\n",
      " |      Pixel values show when the zoom is high\n",
      " |  \n",
      " |  highlight_watched_pixels\n",
      " |      Shall the watched pixels be drawn on the image\n",
      " |  \n",
      " |  image_display_size\n",
      " |      Size of the navigator (can be different from the image size)\n",
      " |  \n",
      " |  is_color_order_bgr\n",
      " |      Color Order: RGB or RGBA versus BGR or BGRA (Note: by default OpenCV uses BGR and BGRA)\n",
      " |  \n",
      " |  legend\n",
      " |      Title displayed in the border\n",
      " |  \n",
      " |  pan_with_mouse\n",
      " |  \n",
      " |  selected_channel\n",
      " |      if SelectedChannel >= 0 then only this channel is displayed\n",
      " |  \n",
      " |  show_alpha_channel_checkerboard\n",
      " |      show a checkerboard behind transparent portions of 4 channels RGBA images\n",
      " |  \n",
      " |  show_grid\n",
      " |      Grid displayed when the zoom is high\n",
      " |  \n",
      " |  show_image_info\n",
      " |      Show matrix type and size\n",
      " |  \n",
      " |  show_legend_border\n",
      " |      Show a rectangular border with the legend\n",
      " |  \n",
      " |  show_options\n",
      " |      Open the options panel\n",
      " |  \n",
      " |  show_options_in_tooltip\n",
      " |      If set to true, then the option panel will be displayed in a transient tooltip window\n",
      " |  \n",
      " |  show_pixel_info\n",
      " |      Show pixel values\n",
      " |  \n",
      " |  show_zoom_buttons\n",
      " |      Show buttons that enable to zoom in/out (the mouse wheel also zoom)\n",
      " |  \n",
      " |  watched_pixels\n",
      " |      List of Watched Pixel coordinates\n",
      " |  \n",
      " |  zoom_key\n",
      " |      If displaying several navigators, those with the same ZoomKey will zoom and pan together\n",
      " |  \n",
      " |  zoom_pan_matrix\n",
      " |      ZoomPanMatrix can be created using MakeZoomPanMatrix to create a view centered around a given point\n",
      " |  \n",
      " |  zoom_with_mouse_wheel\n",
      " |  \n",
      " |  ----------------------------------------------------------------------\n",
      " |  Static methods inherited from pybind11_builtins.pybind11_object:\n",
      " |  \n",
      " |  __new__(*args, **kwargs) from pybind11_builtins.pybind11_type\n",
      " |      Create and return a new object.  See help(type) for accurate signature.\n",
      "\n"
     ]
    }
   ],
   "source": [
    "help(immvision.cpp_immvision.ImageNavigatorParams)"
   ]
  },
  {
   "cell_type": "code",
   "execution_count": 2,
   "metadata": {},
   "outputs": [],
   "source": [
    "import imgui\n",
    "from immvision import imgui_runner\n",
    "\n",
    "def draw_coords_markers(w, h):\n",
    "    step = 100\n",
    "    for x in range(0, w + step, step):\n",
    "        for y in range(0, h + step, step):\n",
    "            imgui.set_cursor_pos((x, y))\n",
    "            imgui.text(f\"{x=} {y=}\")\n",
    "\n",
    "\n",
    "def gui_test_autosize(params: imgui_runner.ImguiAppParams):\n",
    "    draw_coords_markers(400, 600)\n",
    "    if imgui.button(\"Exit\"):\n",
    "        params.app_shall_exit = True\n",
    "\n",
    "\n",
    "def main_autosize():\n",
    "    params = imgui_runner.ImguiAppParams()\n",
    "    # params.use_power_save = False\n",
    "\n",
    "    def my_gui():\n",
    "        gui_test_autosize(params)\n",
    "\n",
    "    imgui_runner.run(my_gui, params)\n",
    "\n"
   ]
  },
  {
   "cell_type": "code",
   "execution_count": 4,
   "metadata": {},
   "outputs": [],
   "source": [
    "main_autosize()"
   ]
  },
  {
   "cell_type": "code",
   "execution_count": null,
   "metadata": {},
   "outputs": [],
   "source": []
  }
 ],
 "metadata": {
  "interpreter": {
   "hash": "07580d44e519ada64faf1c79f750a40c45d7960b3526f627e875efade47c9e1b"
  },
  "kernelspec": {
   "display_name": "Python 3.9.12 ('venv': venv)",
   "language": "python",
   "name": "python3"
  },
  "language_info": {
   "codemirror_mode": {
    "name": "ipython",
    "version": 3
   },
   "file_extension": ".py",
   "mimetype": "text/x-python",
   "name": "python",
   "nbconvert_exporter": "python",
   "pygments_lexer": "ipython3",
   "version": "3.9.12"
  },
  "orig_nbformat": 4
 },
 "nbformat": 4,
 "nbformat_minor": 2
}
