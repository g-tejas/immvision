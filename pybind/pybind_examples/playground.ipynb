{
 "cells": [
  {
   "cell_type": "code",
   "execution_count": 1,
   "metadata": {},
   "outputs": [
    {
     "name": "stdout",
     "output_type": "stream",
     "text": [
      "In init immvision (empty) V2\n",
      "/Users/pascal/dvp/OpenSource/ImGuiWork/immvision/pybind/pybind_examples\n"
     ]
    }
   ],
   "source": [
    "import sys\n",
    "import numpy as np\n",
    "import immvision\n",
    "\n",
    "THIS_DIR = sys.path[0]\n",
    "print(THIS_DIR)\n",
    "sys.path.append(THIS_DIR + \"/../src_python\")\n",
    "\n"
   ]
  },
  {
   "cell_type": "code",
   "execution_count": 1,
   "metadata": {},
   "outputs": [
    {
     "name": "stdout",
     "output_type": "stream",
     "text": [
      "In init immvision (empty) V2\n"
     ]
    },
    {
     "data": {
      "text/plain": [
       "ImageParams\n",
       "{\n",
       "    refresh_image: false\n",
       "    mouse_info: MouseInformation\n",
       "    {\n",
       "        mouse_position_matrix: (-1.000000, -1.000000)\n",
       "        mouse_position_displayed: (-1, -1)\n",
       "    }\n",
       "    image_display_size: (0 x 0)\n",
       "    legend: \"Image\"\n",
       "    zoom_pan_matrix: \n",
       "      [[      1,       0,       0],\n",
       "       [      0,       1,       0],\n",
       "       [      0,       0,       1]]\n",
       "    zoom_key: \"\"\n",
       "    color_adjustments: ColorAdjustmentsValues\n",
       "    {\n",
       "        factor:       1\n",
       "        delta:       0\n",
       "    }\n",
       "    color_adjustments_key: \"\"\n",
       "    pan_with_mouse: true\n",
       "    zoom_with_mouse_wheel: true\n",
       "    is_color_order_bgr: true\n",
       "    selected_channel: -1\n",
       "    show_alpha_channel_checkerboard: true\n",
       "    show_grid: true\n",
       "    draw_values_on_zoomed_pixels: true\n",
       "    show_image_info: true\n",
       "    show_pixel_info: true\n",
       "    show_zoom_buttons: true\n",
       "    show_legend_border: true\n",
       "    show_options: false\n",
       "    show_options_in_tooltip: false\n",
       "    watched_pixels: []\n",
       "    highlight_watched_pixels: true\n",
       "}"
      ]
     },
     "execution_count": 1,
     "metadata": {},
     "output_type": "execute_result"
    }
   ],
   "source": [
    "import immvision\n",
    "p = immvision.ImageParams2(refresh_image=True)\n",
    "p"
   ]
  },
  {
   "cell_type": "code",
   "execution_count": 8,
   "metadata": {},
   "outputs": [
    {
     "data": {
      "text/plain": [
       "ImageParams\n",
       "{\n",
       "    image_display_size: (0 x 0)\n",
       "    legend: \"Image\"\n",
       "    zoom_pan_matrix: \n",
       "      [[      1,       0,       0],\n",
       "       [      0,       1,       0],\n",
       "       [      0,       0,       1]]\n",
       "    zoom_key: \"\"\n",
       "    color_adjustments: ImageParams\n",
       "    {\n",
       "        factor:       1\n",
       "        delta:       0\n",
       "    }\n",
       "    color_adjustments_key: \"\"\n",
       "    pan_with_mouse: true\n",
       "    zoom_with_mouse_wheel: true\n",
       "    is_color_order_bgr: true\n",
       "    selected_channel: -1\n",
       "    show_alpha_channel_checkerboard: true\n",
       "    show_grid: true\n",
       "    draw_values_on_zoomed_pixels: true\n",
       "    show_image_info: true\n",
       "    show_pixel_info: true\n",
       "    show_zoom_buttons: true\n",
       "    show_legend_border: true\n",
       "    show_options: false\n",
       "    show_options_in_tooltip: false\n",
       "    watched_pixels: []\n",
       "    highlight_watched_pixels: true\n",
       "}"
      ]
     },
     "execution_count": 8,
     "metadata": {},
     "output_type": "execute_result"
    }
   ],
   "source": [
    "import immvision\n",
    "p = immvision.ImageParams()\n",
    "p.is_color_order_bgr = True\n",
    "p"
   ]
  },
  {
   "cell_type": "code",
   "execution_count": 1,
   "metadata": {},
   "outputs": [
    {
     "name": "stdout",
     "output_type": "stream",
     "text": [
      "In init immvision (empty) V2\n",
      "GlProviderSentinel __init__: calling immvision.InitGlProvider()\n"
     ]
    },
    {
     "name": "stderr",
     "output_type": "stream",
     "text": [
      "UserWarning: Using SDL2 binaries from pysdl2-dll 2.0.20\n"
     ]
    }
   ],
   "source": [
    "import imgui\n",
    "from immvision import imgui_runner\n",
    "\n",
    "def draw_coords_markers(w, h):\n",
    "    step = 100\n",
    "    for x in range(0, w + step, step):\n",
    "        for y in range(0, h + step, step):\n",
    "            imgui.set_cursor_pos((x, y))\n",
    "            imgui.text(f\"{x=} {y=}\")\n",
    "\n",
    "\n",
    "def gui_test_autosize(params: imgui_runner.ImguiAppParams, w, h):\n",
    "    draw_coords_markers(w, h)\n",
    "    if imgui.button(\"Exit\"):\n",
    "        params.app_shall_exit = True\n",
    "\n",
    "\n",
    "def main_autosize(w, h):\n",
    "    params = imgui_runner.ImguiAppParams()\n",
    "    # params.use_power_save = False\n",
    "\n",
    "    def my_gui():\n",
    "        gui_test_autosize(params, w, h)\n",
    "\n",
    "    imgui_runner.run(my_gui, params)\n",
    "\n"
   ]
  },
  {
   "cell_type": "code",
   "execution_count": 5,
   "metadata": {},
   "outputs": [],
   "source": [
    "main_autosize(300, 100)\n"
   ]
  },
  {
   "cell_type": "code",
   "execution_count": null,
   "metadata": {},
   "outputs": [],
   "source": []
  }
 ],
 "metadata": {
  "interpreter": {
   "hash": "07580d44e519ada64faf1c79f750a40c45d7960b3526f627e875efade47c9e1b"
  },
  "kernelspec": {
   "display_name": "Python 3.9.12 ('venv': venv)",
   "language": "python",
   "name": "python3"
  },
  "language_info": {
   "codemirror_mode": {
    "name": "ipython",
    "version": 3
   },
   "file_extension": ".py",
   "mimetype": "text/x-python",
   "name": "python",
   "nbconvert_exporter": "python",
   "pygments_lexer": "ipython3",
   "version": "3.9.12"
  },
  "orig_nbformat": 4
 },
 "nbformat": 4,
 "nbformat_minor": 2
}
