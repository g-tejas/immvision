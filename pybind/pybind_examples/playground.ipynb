{
 "cells": [
  {
   "cell_type": "code",
   "execution_count": 1,
   "metadata": {},
   "outputs": [
    {
     "name": "stdout",
     "output_type": "stream",
     "text": [
      "/Users/pascal/dvp/OpenSource/ImGuiWork/immvision/pybind/pybind_examples\n",
      "In init immvision (empty) V2\n"
     ]
    }
   ],
   "source": [
    "import sys\n",
    "import numpy as np\n",
    "\n",
    "THIS_DIR = sys.path[0]\n",
    "print(THIS_DIR)\n",
    "sys.path.append(THIS_DIR + \"/../src_python\")\n",
    "\n",
    "import immvision\n",
    "p = immvision.cpp_immvision.ImageNavigatorParams()"
   ]
  },
  {
   "cell_type": "code",
   "execution_count": 2,
   "metadata": {},
   "outputs": [
    {
     "data": {
      "text/plain": [
       "ImageNavigatorParams\n",
       "{\n",
       "    ImageDisplaySize: (0 x 0)\n",
       "    Legend: \"Image Navigator\"\n",
       "    ZoomPanMatrix: \n",
       "      [[      1,       0,       0],\n",
       "       [      0,       1,       0],\n",
       "       [      0,       0,       1]]\n",
       "    ZoomKey: \"\"\n",
       "    ColorAdjustments: ImageNavigatorParams\n",
       "    {\n",
       "        Factor:       1\n",
       "        Delta:       0\n",
       "    }\n",
       "    ColorAdjustmentsKey: \"\"\n",
       "    PanWithMouse: true\n",
       "    ZoomWithMouseWheel: true\n",
       "    IsColorOrderBGR: true\n",
       "    SelectedChannel: -1\n",
       "    ShowAlphaChannelCheckerboard: true\n",
       "    ShowGrid: true\n",
       "    DrawValuesOnZoomedPixels: true\n",
       "    ShowImageInfo: true\n",
       "    ShowPixelInfo: true\n",
       "    ShowZoomButtons: true\n",
       "    ShowLegendBorder: true\n",
       "    ShowOptions: false\n",
       "    ShowOptionsInTooltip: false\n",
       "    WatchedPixels: []\n",
       "    HighlightWatchedPixels: true\n",
       "}"
      ]
     },
     "execution_count": 2,
     "metadata": {},
     "output_type": "execute_result"
    }
   ],
   "source": [
    "p"
   ]
  },
  {
   "cell_type": "code",
   "execution_count": 3,
   "metadata": {},
   "outputs": [],
   "source": []
  },
  {
   "cell_type": "code",
   "execution_count": 2,
   "metadata": {},
   "outputs": [],
   "source": [
    "import immvision\n",
    "import imgui\n",
    "import immvision.imgui_runner\n",
    "\n",
    "def gui():\n",
    "    imgui.text(\"Hello, world!\")\n",
    "    imgui.text(\"Version: \" + immvision.cpp_immvision.__version__)\n",
    "\n",
    "immvision.imgui_runner.run(gui)"
   ]
  },
  {
   "cell_type": "code",
   "execution_count": null,
   "metadata": {},
   "outputs": [],
   "source": []
  }
 ],
 "metadata": {
  "interpreter": {
   "hash": "07580d44e519ada64faf1c79f750a40c45d7960b3526f627e875efade47c9e1b"
  },
  "kernelspec": {
   "display_name": "Python 3.9.12 ('venv': venv)",
   "language": "python",
   "name": "python3"
  },
  "language_info": {
   "codemirror_mode": {
    "name": "ipython",
    "version": 3
   },
   "file_extension": ".py",
   "mimetype": "text/x-python",
   "name": "python",
   "nbconvert_exporter": "python",
   "pygments_lexer": "ipython3",
   "version": "3.9.12"
  },
  "orig_nbformat": 4
 },
 "nbformat": 4,
 "nbformat_minor": 2
}
