{
 "cells": [
  {
   "cell_type": "code",
   "execution_count": 2,
   "metadata": {},
   "outputs": [
    {
     "name": "stdout",
     "output_type": "stream",
     "text": [
      "/Users/pascal/dvp/OpenSource/ImGuiWork/immvision/pybind/pybind_examples\n"
     ]
    }
   ],
   "source": [
    "import sys\n",
    "import numpy as np\n",
    "import immvision\n",
    "\n",
    "THIS_DIR = sys.path[0]\n",
    "print(THIS_DIR)\n",
    "sys.path.append(THIS_DIR + \"/../src_python\")\n",
    "\n"
   ]
  },
  {
   "cell_type": "code",
   "execution_count": 4,
   "metadata": {},
   "outputs": [],
   "source": [
    "import immvision\n",
    "p = immvision.ImageParams(refresh_image=True)"
   ]
  },
  {
   "cell_type": "code",
   "execution_count": 1,
   "metadata": {},
   "outputs": [
    {
     "name": "stdout",
     "output_type": "stream",
     "text": [
      "GlProviderSentinel __init__: calling immvision.InitGlProvider()\n"
     ]
    },
    {
     "name": "stderr",
     "output_type": "stream",
     "text": [
      "UserWarning: Using SDL2 binaries from pysdl2-dll 2.0.20\n"
     ]
    },
    {
     "data": {
      "text/plain": [
       "array([[ 2.,  0., 50.],\n",
       "       [ 0.,  2.,  0.],\n",
       "       [ 0.,  0.,  1.]])"
      ]
     },
     "execution_count": 1,
     "metadata": {},
     "output_type": "execute_result"
    }
   ],
   "source": [
    "import immvision\n",
    "immvision.make_zoom_pan_matrix((50, 50), 2, (300, 200))"
   ]
  },
  {
   "cell_type": "code",
   "execution_count": 2,
   "metadata": {},
   "outputs": [
    {
     "ename": "NameError",
     "evalue": "name 'immmvision' is not defined",
     "output_type": "error",
     "traceback": [
      "\u001b[0;31m---------------------------------------------------------------------------\u001b[0m",
      "\u001b[0;31mNameError\u001b[0m                                 Traceback (most recent call last)",
      "\u001b[1;32m/Users/pascal/dvp/OpenSource/ImGuiWork/immvision/pybind/pybind_examples/playground.ipynb Cell 4'\u001b[0m in \u001b[0;36m<cell line: 12>\u001b[0;34m()\u001b[0m\n\u001b[1;32m      <a href='vscode-notebook-cell:/Users/pascal/dvp/OpenSource/ImGuiWork/immvision/pybind/pybind_examples/playground.ipynb#ch0000003?line=7'>8</a>\u001b[0m             imgui\u001b[39m.\u001b[39mset_cursor_pos((x, y))\n\u001b[1;32m      <a href='vscode-notebook-cell:/Users/pascal/dvp/OpenSource/ImGuiWork/immvision/pybind/pybind_examples/playground.ipynb#ch0000003?line=8'>9</a>\u001b[0m             imgui\u001b[39m.\u001b[39mtext(\u001b[39mf\u001b[39m\u001b[39m\"\u001b[39m\u001b[39m{\u001b[39;00mx\u001b[39m=}\u001b[39;00m\u001b[39m \u001b[39m\u001b[39m{\u001b[39;00my\u001b[39m=}\u001b[39;00m\u001b[39m\"\u001b[39m)\n\u001b[0;32m---> <a href='vscode-notebook-cell:/Users/pascal/dvp/OpenSource/ImGuiWork/immvision/pybind/pybind_examples/playground.ipynb#ch0000003?line=11'>12</a>\u001b[0m \u001b[39mdef\u001b[39;00m \u001b[39mgui_test_autosize\u001b[39m(params: immmvision\u001b[39m.\u001b[39mimgui_runner\u001b[39m.\u001b[39mImguiAppParams, w, h):\n\u001b[1;32m     <a href='vscode-notebook-cell:/Users/pascal/dvp/OpenSource/ImGuiWork/immvision/pybind/pybind_examples/playground.ipynb#ch0000003?line=12'>13</a>\u001b[0m     draw_coords_markers(w, h)\n\u001b[1;32m     <a href='vscode-notebook-cell:/Users/pascal/dvp/OpenSource/ImGuiWork/immvision/pybind/pybind_examples/playground.ipynb#ch0000003?line=13'>14</a>\u001b[0m     \u001b[39mif\u001b[39;00m imgui\u001b[39m.\u001b[39mbutton(\u001b[39m\"\u001b[39m\u001b[39mExit\u001b[39m\u001b[39m\"\u001b[39m):\n",
      "\u001b[0;31mNameError\u001b[0m: name 'immmvision' is not defined"
     ]
    }
   ],
   "source": [
    "import imgui\n",
    "import immvision\n",
    "\n",
    "def draw_coords_markers(w, h):\n",
    "    step = 100\n",
    "    for x in range(0, w + step, step):\n",
    "        for y in range(0, h + step, step):\n",
    "            imgui.set_cursor_pos((x, y))\n",
    "            imgui.text(f\"{x=} {y=}\")\n",
    "\n",
    "\n",
    "def gui_test_autosize(params: immvision.imgui_runner.ImguiAppParams, w, h):\n",
    "    draw_coords_markers(w, h)\n",
    "    if imgui.button(\"Exit\"):\n",
    "        params.app_shall_exit = True\n",
    "\n",
    "\n",
    "def main_autosize(w, h):\n",
    "    params = immvision.imgui_runner.ImguiAppParams()\n",
    "    # params.use_power_save = False\n",
    "\n",
    "    def my_gui():\n",
    "        gui_test_autosize(params, w, h)\n",
    "\n",
    "    immvision.imgui_runner.run(my_gui, params)\n",
    "\n"
   ]
  },
  {
   "cell_type": "code",
   "execution_count": 6,
   "metadata": {},
   "outputs": [],
   "source": [
    "main_autosize(300, 100)\n"
   ]
  },
  {
   "cell_type": "code",
   "execution_count": null,
   "metadata": {},
   "outputs": [],
   "source": []
  }
 ],
 "metadata": {
  "interpreter": {
   "hash": "07580d44e519ada64faf1c79f750a40c45d7960b3526f627e875efade47c9e1b"
  },
  "kernelspec": {
   "display_name": "Python 3.9.12 ('venv': venv)",
   "language": "python",
   "name": "python3"
  },
  "language_info": {
   "codemirror_mode": {
    "name": "ipython",
    "version": 3
   },
   "file_extension": ".py",
   "mimetype": "text/x-python",
   "name": "python",
   "nbconvert_exporter": "python",
   "pygments_lexer": "ipython3",
   "version": "3.9.12"
  },
  "orig_nbformat": 4
 },
 "nbformat": 4,
 "nbformat_minor": 2
}
