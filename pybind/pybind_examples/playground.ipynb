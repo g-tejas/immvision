{
 "cells": [
  {
   "cell_type": "code",
   "execution_count": 1,
   "metadata": {},
   "outputs": [
    {
     "name": "stdout",
     "output_type": "stream",
     "text": [
      "/Users/pascal/dvp/OpenSource/ImGuiWork/immvision/pybind/pybind_examples\n",
      "In init immvision (empty) V2\n"
     ]
    }
   ],
   "source": [
    "import sys\n",
    "import numpy as np\n",
    "\n",
    "THIS_DIR = sys.path[0]\n",
    "print(THIS_DIR)\n",
    "sys.path.append(THIS_DIR + \"/../src_python\")\n",
    "\n",
    "import immvision\n",
    "p = immvision.cpp_immvision.ImageNavigatorParams()"
   ]
  },
  {
   "cell_type": "code",
   "execution_count": 2,
   "metadata": {},
   "outputs": [],
   "source": [
    "import imgui\n",
    "from immvision import imgui_runner\n",
    "\n",
    "def draw_coords_markers(w, h):\n",
    "    step = 100\n",
    "    for x in range(0, w + step, step):\n",
    "        for y in range(0, h + step, step):\n",
    "            imgui.set_cursor_pos((x, y))\n",
    "            imgui.text(f\"{x=} {y=}\")\n",
    "\n",
    "\n",
    "def gui_test_autosize(params: imgui_runner.ImguiAppParams):\n",
    "    draw_coords_markers(400, 600)\n",
    "    if imgui.button(\"Exit\"):\n",
    "        params.app_shall_exit = True\n",
    "\n",
    "\n",
    "def main_autosize():\n",
    "    params = imgui_runner.ImguiAppParams()\n",
    "    # params.use_power_save = False\n",
    "\n",
    "    def my_gui():\n",
    "        gui_test_autosize(params)\n",
    "\n",
    "    imgui_runner.run(my_gui, params)\n",
    "\n"
   ]
  },
  {
   "cell_type": "code",
   "execution_count": 4,
   "metadata": {},
   "outputs": [],
   "source": [
    "main_autosize()"
   ]
  },
  {
   "cell_type": "code",
   "execution_count": null,
   "metadata": {},
   "outputs": [],
   "source": []
  }
 ],
 "metadata": {
  "interpreter": {
   "hash": "07580d44e519ada64faf1c79f750a40c45d7960b3526f627e875efade47c9e1b"
  },
  "kernelspec": {
   "display_name": "Python 3.9.12 ('venv': venv)",
   "language": "python",
   "name": "python3"
  },
  "language_info": {
   "codemirror_mode": {
    "name": "ipython",
    "version": 3
   },
   "file_extension": ".py",
   "mimetype": "text/x-python",
   "name": "python",
   "nbconvert_exporter": "python",
   "pygments_lexer": "ipython3",
   "version": "3.9.12"
  },
  "orig_nbformat": 4
 },
 "nbformat": 4,
 "nbformat_minor": 2
}
